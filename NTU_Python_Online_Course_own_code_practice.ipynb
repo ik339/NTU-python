{
  "nbformat": 4,
  "nbformat_minor": 0,
  "metadata": {
    "colab": {
      "name": "NTU Python Online Course - own code practice",
      "provenance": [],
      "toc_visible": true,
      "authorship_tag": "ABX9TyMlki8+FmkkTv05MVCihK2x",
      "include_colab_link": true
    },
    "kernelspec": {
      "name": "python3",
      "display_name": "Python 3"
    },
    "language_info": {
      "name": "python"
    }
  },
  "cells": [
    {
      "cell_type": "markdown",
      "metadata": {
        "id": "view-in-github",
        "colab_type": "text"
      },
      "source": [
        "<a href=\"https://colab.research.google.com/github/ik339/NTU-python/blob/main/NTU_Python_Online_Course_own_code_practice.ipynb\" target=\"_parent\"><img src=\"https://colab.research.google.com/assets/colab-badge.svg\" alt=\"Open In Colab\"/></a>"
      ]
    },
    {
      "cell_type": "markdown",
      "source": [
        "#Day 1 30/08/22\n",
        "Page 47 challenge practice"
      ],
      "metadata": {
        "id": "ZJttiUrp6anp"
      }
    },
    {
      "cell_type": "code",
      "source": [
        " food1 = input(\" fav food 1 \")\n",
        " food2 = input(\" fav food 2 \")\n",
        " print(str(food1+food2))\n",
        " "
      ],
      "metadata": {
        "id": "zixPZs4tpI4j",
        "colab": {
          "base_uri": "https://localhost:8080/"
        },
        "outputId": "c4e969f0-4487-4177-e776-71c8bbbf5497"
      },
      "execution_count": 1,
      "outputs": [
        {
          "output_type": "stream",
          "name": "stdout",
          "text": [
            " fav food 1 mango\n",
            " fav food 2 berry\n",
            "mangoberry\n"
          ]
        }
      ]
    },
    {
      "cell_type": "code",
      "source": [
        "a = int(input(\"bill amount \")) \n",
        "print(\"15% tip is\", (15/100)*a)\n",
        "print(\"20% tip is\", (20/100)*a )\n",
        " "
      ],
      "metadata": {
        "colab": {
          "base_uri": "https://localhost:8080/"
        },
        "id": "rSpMUZLCaNKX",
        "outputId": "b35f9f37-1f97-4505-dfe2-515866834ade"
      },
      "execution_count": 4,
      "outputs": [
        {
          "output_type": "stream",
          "name": "stdout",
          "text": [
            "bill amount 307\n",
            "15% tip is 46.05\n",
            "20% tip is 61.400000000000006\n"
          ]
        }
      ]
    },
    {
      "cell_type": "code",
      "source": [
        "a = int(input(\"Car Base Price \"))\n",
        "b=(1/100)*a\n",
        "c=(1/100)*a\n",
        "d=15\n",
        "e=20\n",
        "\n",
        "print(\"Tax charge\", (3/100)*a)\n",
        "print(\"License charge\", (5/100)*a)\n",
        "print(\"Dealer prep charge\", 15)\n",
        "print(\"Destination charge\", 20)\n",
        "\n",
        "Totalprice = str(a+b+c+d+e)\n",
        "print(Totalprice)\n"
      ],
      "metadata": {
        "colab": {
          "base_uri": "https://localhost:8080/"
        },
        "id": "dK_A475Kbp8c",
        "outputId": "667021a5-83ca-4a9d-cc85-0148a5a3f160"
      },
      "execution_count": 1,
      "outputs": [
        {
          "output_type": "stream",
          "name": "stdout",
          "text": [
            "Car Base Price 345467788\n",
            "Tax charge 10364033.639999999\n",
            "License charge 17273389.400000002\n",
            "Dealer prep charge 15\n",
            "Destination charge 20\n",
            "352377178.76\n"
          ]
        }
      ]
    },
    {
      "cell_type": "markdown",
      "source": [
        "# Day 2 31/08/22"
      ],
      "metadata": {
        "id": "tv4i3lFHRMnD"
      }
    },
    {
      "cell_type": "code",
      "source": [
        "#convert metres to feet program\n",
        "h = float(input(\"Your height in metres:\"))\n",
        "ft = h*3.28\n",
        "print(\"Your height in feet is\" , ft)\n",
        "if (ft>5.8):\n",
        "  print(\"You are tall\");\n",
        "elif(ft<4.8):\n",
        "  print(\"You are short\");\n",
        "else:\n",
        "  print(\"You are average\")\n"
      ],
      "metadata": {
        "colab": {
          "base_uri": "https://localhost:8080/"
        },
        "id": "_Qr9HfepeL6S",
        "outputId": "a1fc3c68-7e42-4595-887f-b8013d4939e9"
      },
      "execution_count": 13,
      "outputs": [
        {
          "output_type": "stream",
          "name": "stdout",
          "text": [
            "Your height in metres:1.65\n",
            "Your height in feet is 5.411999999999999\n",
            "You are average\n"
          ]
        }
      ]
    },
    {
      "cell_type": "code",
      "source": [
        "#program\n"
      ],
      "metadata": {
        "id": "0o3x61H-7CqS"
      },
      "execution_count": null,
      "outputs": []
    },
    {
      "cell_type": "markdown",
      "source": [
        "#Day 3 01/09/22"
      ],
      "metadata": {
        "id": "VkGlJi5a643J"
      }
    }
  ]
}